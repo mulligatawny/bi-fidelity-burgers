{
 "cells": [
  {
   "cell_type": "code",
   "execution_count": 1,
   "metadata": {
    "id": "qxg3L1Kr-bVv"
   },
   "outputs": [],
   "source": [
    "import numpy  as np                       \n",
    "import matplotlib.pyplot as plt\n",
    "import scipy.linalg.interpolative as sli\n",
    "import time, sys  \n",
    "import random"
   ]
  },
  {
   "cell_type": "code",
   "execution_count": 2,
   "metadata": {},
   "outputs": [
    {
     "name": "stdout",
     "output_type": "stream",
     "text": [
      "time: 149 µs\n"
     ]
    }
   ],
   "source": [
    "%matplotlib inline\n",
    "#%%capture\n",
    "#!pip install ipython-autotime\n",
    "%reload_ext autotime"
   ]
  },
  {
   "cell_type": "code",
   "execution_count": 3,
   "metadata": {
    "id": "5IoCe3ckL7EK",
    "outputId": "55539307-283c-43eb-9ec9-ac65548d4c4d"
   },
   "outputs": [
    {
     "name": "stdout",
     "output_type": "stream",
     "text": [
      "time: 321 µs\n"
     ]
    }
   ],
   "source": [
    "# code settings\n",
    "nx_lf     = 32\n",
    "nx_hf     = 256\n",
    "samples   = 100\n",
    "eps       = 1e-6\n",
    "save_plot = 0 # toggle flag to save figures\n",
    "transf    = 0 # toggle flag to apply coordinate transform"
   ]
  },
  {
   "cell_type": "code",
   "execution_count": null,
   "metadata": {
    "id": "Ajk2kCPl_Ier",
    "outputId": "1e362519-0bb3-4a89-a956-898aa380802b"
   },
   "outputs": [],
   "source": [
    "# burgers' solver\n",
    "random.seed(42) # fix seed for np.random\n",
    "sli.seed(43)    # fix seed for svd/id algorithm (generating matrix with random variates)\n",
    "\n",
    "s = np.random.uniform(5, 25, samples)\n",
    "phi_lf = np.zeros((nx_lf, samples))\n",
    "phi_hf = np.zeros((nx_hf, samples))\n",
    "\n",
    "for _ in range(len(s)):\n",
    "    sharpen = s[_]\n",
    "\n",
    "    u = 1.0         \n",
    "    L = 2.0        \n",
    "    T = 1.0\n",
    "    \n",
    "    cfl = 0.1      \n",
    "    periodic = 1    # periodicity on/off \n",
    "\n",
    "    # define initial condition   \n",
    "    def ic(x, sharpen):\n",
    "        xcenter = 0.5   # location of the gaussian center\n",
    "        phi_ic = np.exp(-sharpen*(x - xcenter)**2) \n",
    "        return phi_ic\n",
    "\n",
    "    x = np.linspace(0,L,samples)\n",
    "    phi = np.zeros(samples)  \n",
    "    for i in range(samples):\n",
    "        phi[i]=ic(x[i], sharpen)\n",
    "\n",
    "    # set initial condition   \n",
    "    def initialize(nno,x,phi):\n",
    "        for i in range(nno):\n",
    "            phi[i]=ic(x[i], sharpen)\n",
    "\n",
    "    # compute errors\n",
    "    def compute_exact(nno,time,x,phi_exact):\n",
    "        time_shift = time\n",
    "        if periodic and time*u > L:\n",
    "            a = divmod(time,L/u)\n",
    "            time_shift = a[1]\n",
    "        for i in range(nno):\n",
    "            phi_exact[i]=ic(x[i]-u*time_shift, sharpen)\n",
    "\n",
    "    # First Order Upwind\n",
    "    def update_upwind(nno,dx,dt,phi):\n",
    "        phi_old = phi.copy() \n",
    "        for i in range(1, nno-1):\n",
    "            im = i-1\n",
    "            #phi[i] = phi_old[i]-0.5*dt/dx*(phi_old[i]**2 - phi_old[im]**2) # conservative\n",
    "            phi[i] = phi_old[i]-phi_old[i]*dt/dx*(phi_old[i] - phi_old[im])  \n",
    "\n",
    "    # Lax Wendroff\n",
    "    def update_laxwendroff(nno,dx,dt,phi):\n",
    "        phi_old = phi.copy() \n",
    "        for i in range(1, nno-1):\n",
    "            im = i-1\n",
    "            ip = i+1\n",
    "            phi[i] = phi_old[i]-0.5*phi_old[i]*dt/dx*((phi_old[ip]-phi_old[im])\n",
    "                      -phi_old[i]*dt/dx*(-2.*phi_old[i]+phi_old[im]+phi_old[ip]))\n",
    "\n",
    "    # set boundary condition  \n",
    "    def bc(nno,x,phi,time):\n",
    "        if (periodic):\n",
    "            phi[0]=phi[nno-2] #apply periodicity @ x=0\n",
    "            phi[nno-1]=phi[1] #apply periodicity @ x=L\n",
    "        else:\n",
    "            phi[0]=ic(x[0]-np.max(phi)*time, sharpen) #ncross the right boundary\n",
    "            #phi[nno-1]=phi[nno-2] #zero-gradient?\n",
    "            phi[nno-1]=ic(x[nno-1]-np.max(phi)*time, sharpen) #cross the right boundary\n",
    "\n",
    "    # solve the PDE\n",
    "    def solve(nno,scheme=\"upwind\",plot=0):  \n",
    "        #by default use upwind and plot solution\n",
    "        start = time.time() \n",
    "        dx = L / (nno-1)    # spacing of the nodes\n",
    "        x = np.linspace(0,L,nno)  #grid generation\n",
    "        phi = np.zeros(nno)  \n",
    "        phi_exact = np.zeros(nno)  \n",
    "        initialize(nno,x,phi) #initialize\n",
    "        mytime = 0\n",
    "        nts = 0\n",
    "        dt = cfl*dx/np.max(phi)\n",
    "        while mytime < T:  #integrate up to time T\n",
    "            bc(nno,x,phi,mytime)\n",
    "            nts = nts + 1\n",
    "            mytime = mytime + dt  \n",
    "            # update the solution with a finite difference scheme (explicit)\n",
    "            if scheme == \"upwind\": \n",
    "                update_upwind(nno,dx,dt,phi)\n",
    "            elif scheme == \"laxwendroff\":\n",
    "                update_laxwendroff(nno,dx,dt,phi)\n",
    "        # compare the solution with the exact and compute the L2 norm\n",
    "        compute_exact(nno,mytime,x,phi_exact)\n",
    "        end = time.time()\n",
    "\n",
    "        return phi \n",
    "    \n",
    "    phi_lf[:,_] = solve(nx_lf,\"upwind\",0)\n",
    "    phi_hf[:,_] = solve(nx_hf,\"upwind\",0)"
   ]
  },
  {
   "cell_type": "code",
   "execution_count": null,
   "metadata": {
    "id": "L4JZVH4uL7EK",
    "outputId": "47489c80-3700-4242-ee90-859c9223f2ed"
   },
   "outputs": [],
   "source": [
    "phi_check = phi_hf[:]"
   ]
  },
  {
   "cell_type": "code",
   "execution_count": null,
   "metadata": {
    "id": "SpMLga2XL7EK",
    "outputId": "fb955934-93c0-4428-aa25-73a79a9f2d80"
   },
   "outputs": [],
   "source": [
    "# coordinate transform\n",
    "def transform(p):\n",
    "    \"\"\"Transform problem into a domain that fixes the shock for all realisations\"\"\"\n",
    "    grad_phi = np.zeros((p.shape[0]-1,p.shape[1]))\n",
    "\n",
    "    for j in range(p.shape[1]):\n",
    "        for i in range(p.shape[0]-1):\n",
    "            grad_phi[i,j] = p[i,j] - p[i+1,j]\n",
    "\n",
    "    shock_loc = np.zeros(p.shape[1])\n",
    "\n",
    "    for _ in range(p.shape[1]):\n",
    "        shock_loc[_] = np.argmax(grad_phi[:,_]) # get shock location\n",
    "\n",
    "    shift_phi = np.zeros(np.shape(p))\n",
    "\n",
    "    for _ in range(p.shape[1]):\n",
    "        shift_phi[:,_] = np.roll(p[:,_], int(p.shape[0]//2 - shock_loc[_]))\n",
    "    \n",
    "    return shift_phi, shock_loc"
   ]
  },
  {
   "cell_type": "code",
   "execution_count": null,
   "metadata": {
    "id": "9pkVvMvYL7EK",
    "outputId": "cc517989-ae94-4252-c81e-735e31d6890c"
   },
   "outputs": [],
   "source": [
    "if transf:\n",
    "    phi_lf, sloc_lf = transform(phi_lf)\n",
    "    phi_hf, sloc_hf = transform(phi_hf)\n",
    "\n",
    "A = phi_lf"
   ]
  },
  {
   "cell_type": "code",
   "execution_count": null,
   "metadata": {
    "colab": {
     "base_uri": "https://localhost:8080/",
     "height": 301
    },
    "id": "6N4VfhPv_NH8",
    "outputId": "69e9ceab-d788-450e-a9b4-d91489af6e3f"
   },
   "outputs": [],
   "source": [
    "k, idx, proj = sli.interp_decomp(A, eps)\n",
    "\n",
    "print(\"rank =\",k , \"of\", samples)\n",
    "print(\"idx = \",idx.shape)\n",
    "print(\"proj = \",proj.shape)"
   ]
  },
  {
   "cell_type": "code",
   "execution_count": null,
   "metadata": {
    "id": "QC0gvr6oL7EL",
    "outputId": "71c92528-5798-47d2-fe9f-0390e327f906"
   },
   "outputs": [],
   "source": [
    "# compute singular value decomposition to check eps choice\n",
    "u, sv, vh = np.linalg.svd(A, full_matrices=True)\n",
    "del u, vh\n",
    "\n",
    "fig1 = plt.figure(figsize=[6.4*.5, 4.8*.5],dpi=300)\n",
    "ax = fig1.add_subplot(1,1,1)\n",
    "ax.semilogy(sv/sv[0], 'r.', color='grey')\n",
    "ax.set_ylabel('$\\sigma_k/\\sigma_1$')\n",
    "ax.set_xlabel('index')\n",
    "ax.axvline([k-1]) \n",
    "ax.set_ylim([1e-15,1e1])\n",
    "ax.grid('on')\n",
    "if save_plot:\n",
    "    plt.savefig(\"./figures/svt.png\",bbox_inches='tight')"
   ]
  },
  {
   "cell_type": "code",
   "execution_count": null,
   "metadata": {
    "colab": {
     "base_uri": "https://localhost:8080/",
     "height": 301
    },
    "id": "uYJltSW1_VJx",
    "outputId": "d58c3082-909f-4cbd-b6eb-27fcdd319723"
   },
   "outputs": [],
   "source": [
    "B = sli.reconstruct_skel_matrix(A, k, idx)\n",
    "P = sli.reconstruct_interp_matrix(idx, proj)\n",
    "C = sli.reconstruct_matrix_from_id(B, idx, proj) # C = B*P\n",
    "print(\"B = \",B.shape)\n",
    "print(\"P = \",P.shape)\n",
    "print(\"C = \",C.shape)\n",
    "\n",
    "diff = sli.estimate_spectral_norm_diff(A, C)\n",
    "print(\"Frob Error = \",np.linalg.norm(A-C))\n",
    "print(\"Spectral Norm of Difference = \",diff)"
   ]
  },
  {
   "cell_type": "code",
   "execution_count": null,
   "metadata": {},
   "outputs": [],
   "source": [
    "phi_bf = np.dot(phi_hf[:,idx[0:k]],P) # reconstructed high-fidelity solution\n",
    "print(np.shape(phi_bf))"
   ]
  },
  {
   "cell_type": "code",
   "execution_count": null,
   "metadata": {
    "id": "cBz9LrSVL7EM",
    "outputId": "cc2d7838-5a88-4877-d3c3-5e1bc381a9f7"
   },
   "outputs": [],
   "source": [
    "# plot HF results\n",
    "\n",
    "X = np.linspace(0,L,nx_hf)\n",
    "# generate uncertainty envelope\n",
    "low_bnd = np.zeros(nx_hf)\n",
    "for _ in range(nx_hf):\n",
    "    low_bnd[_] = min(phi_hf[_,:])\n",
    "    \n",
    "upp_bnd = np.zeros(nx_hf)\n",
    "for _ in range(nx_hf):\n",
    "    upp_bnd[_] = max(phi_hf[_,:])\n",
    "\n",
    "fig2 = plt.figure(figsize=[6.4*.75, 4.8*.75],dpi=300)\n",
    "ax = fig2.add_subplot(1,1,1)\n",
    "#ax.plot(X,phi_hf[:,idx[0:k]], '-', color='grey')\n",
    "ax.plot(X,phi_hf, '-', color='grey')\n",
    "#ax.plot(X,phi_check, '-', color='grey')\n",
    "ax.set_ylabel('$u(t = 1)$')\n",
    "ax.set_ylim([-.2,1.2])\n",
    "ax.grid('on')\n",
    "ax.set_title('High fidelity')\n",
    "ax.fill_between(X,low_bnd,upp_bnd,color='lightgreen',alpha=0.6)      # uq bounds\n",
    "\n",
    "if save_plot:\n",
    "    plt.savefig(\"./figures/hft.png\",bbox_inches='tight')"
   ]
  },
  {
   "cell_type": "code",
   "execution_count": null,
   "metadata": {
    "id": "guudzslbL7EN",
    "outputId": "9367e8c8-11af-456b-caab-c2fabedc12d4"
   },
   "outputs": [],
   "source": [
    "# plot LF results\n",
    "X = np.linspace(0,L,nx_lf)\n",
    "# generate uncertainty envelope\n",
    "low_bnd = np.zeros(nx_lf)\n",
    "for _ in range(nx_lf):\n",
    "    low_bnd[_] = min(phi_lf[_,:])\n",
    "    \n",
    "upp_bnd = np.zeros(nx_lf)\n",
    "for _ in range(nx_lf):\n",
    "    upp_bnd[_] = max(phi_lf[_,:])\n",
    "\n",
    "fig3 = plt.figure(figsize=[6.4*.75, 4.8*.75],dpi=300)\n",
    "ax = fig3.add_subplot(1,1,1)\n",
    "ax.plot(X,phi_lf, '-', color='grey')\n",
    "#ax.plot(X,phi_check_up, '-', color='grey')\n",
    "ax.set_ylabel('$u(t = 1)$')\n",
    "ax.set_ylim([-.2,1.2])\n",
    "ax.set_title('Low fidelity')\n",
    "ax.grid('on')\n",
    "ax.fill_between(X,low_bnd,upp_bnd,color='salmon',alpha=0.6) \n",
    "\n",
    "if save_plot:\n",
    "    plt.savefig(\"./figures/lft.png\",bbox_inches='tight')"
   ]
  },
  {
   "cell_type": "code",
   "execution_count": null,
   "metadata": {
    "id": "xtgWKnTSL7EN",
    "outputId": "7c8d7cb6-3a0a-4d19-bd45-3b40fd39a8c6"
   },
   "outputs": [],
   "source": [
    "# back to original coordinates\n",
    "if transf:\n",
    "    shift_rcn = np.zeros(np.shape(phi_bf))\n",
    "\n",
    "    for _ in range(phi_bf.shape[1]):\n",
    "        #shift_rcn[:,_] = np.roll(phi_bf[:,_], int(phi_bf.shape[0]//2 + sloc_hf[_]))\n",
    "        shift = int(phi_bf.shape[0]//2 + sloc_lf[_]*float(phi_hf.shape[0]/phi_lf.shape[0]))\n",
    "        shift_rcn[:,_] = np.roll(phi_bf[:,_], shift)\n",
    " \n",
    "    phi_bf = shift_rcn[:]"
   ]
  },
  {
   "cell_type": "code",
   "execution_count": null,
   "metadata": {
    "id": "XepujljXL7EN",
    "outputId": "4a06419b-7be5-4502-a2f0-94943cb70447"
   },
   "outputs": [],
   "source": [
    "# plot BF results\n",
    "X = np.linspace(0,L,nx_hf)\n",
    "\n",
    "# generate uncertainty envelope\n",
    "low_bnd = np.zeros(nx_hf)\n",
    "for _ in range(nx_hf):\n",
    "    low_bnd[_] = min(phi_bf[_,:])\n",
    "    \n",
    "upp_bnd = np.zeros(nx_hf)\n",
    "for _ in range(nx_hf):\n",
    "    upp_bnd[_] = max(phi_bf[_,:])\n",
    "\n",
    "fig4 = plt.figure(figsize=[6.4*.75, 4.8*.75],dpi=300)\n",
    "ax = fig4.add_subplot(1,1,1)\n",
    "#ax.plot(X,phi_bf[:,idx[k:]], '-', color='grey')\n",
    "ax.plot(X,phi_bf, '-', color='grey')\n",
    "ax.set_ylabel('$u(t = 1)$')\n",
    "ax.set_ylim([-.2,1.2])\n",
    "ax.set_title('Bi-fidelity')\n",
    "ax.grid('on')\n",
    "ax.fill_between(X,low_bnd,upp_bnd,color='lightblue',alpha=0.6)      # uq bounds\n",
    "\n",
    "if save_plot:\n",
    "    plt.savefig(\"./figures/bft.png\",bbox_inches='tight')"
   ]
  },
  {
   "cell_type": "code",
   "execution_count": null,
   "metadata": {
    "id": "-w47PwE-L7EO",
    "outputId": "3881dc3f-d1b5-4115-a577-59de2a83a852"
   },
   "outputs": [],
   "source": [
    "print(\"Frob Error = \",np.linalg.norm(phi_check - phi_bf))\n",
    "diff = sli.estimate_spectral_norm_diff(phi_check, phi_bf)\n",
    "print(\"Spectral Norm of Difference = \",diff)"
   ]
  },
  {
   "cell_type": "code",
   "execution_count": null,
   "metadata": {
    "id": "_i6qadYOL7EO",
    "outputId": "37182d7e-1c01-442a-a489-29375a32d30d"
   },
   "outputs": [],
   "source": [
    "np.abs(np.linalg.norm(phi_check) - np.linalg.norm(phi_bf))"
   ]
  }
 ],
 "metadata": {
  "colab": {
   "collapsed_sections": [],
   "name": "bi-fidelity-burgers.ipynb",
   "provenance": []
  },
  "kernelspec": {
   "display_name": "Python 3",
   "language": "python",
   "name": "python3"
  },
  "language_info": {
   "codemirror_mode": {
    "name": "ipython",
    "version": 3
   },
   "file_extension": ".py",
   "mimetype": "text/x-python",
   "name": "python",
   "nbconvert_exporter": "python",
   "pygments_lexer": "ipython3",
   "version": "3.8.5"
  }
 },
 "nbformat": 4,
 "nbformat_minor": 4
}
